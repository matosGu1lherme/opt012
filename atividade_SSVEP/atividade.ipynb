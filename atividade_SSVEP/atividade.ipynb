{
 "cells": [
  {
   "cell_type": "code",
   "execution_count": 9,
   "metadata": {},
   "outputs": [
    {
     "name": "stdout",
     "output_type": "stream",
     "text": [
      "/home/glmatos/Desenvolvimento/UTFPR/interfacesNaoConvencionais/multi/Sub1_1_multitarget.mat\n"
     ]
    }
   ],
   "source": [
    "import os\n",
    "\n",
    "# Diretório atual de execução\n",
    "current_dir = os.getcwd()\n",
    "\n",
    "# Caminho para a pasta 'multi'\n",
    "multi_path = os.path.join(current_dir, 'multi/Sub1_1_multitarget.mat')\n",
    "print(multi_path)\n",
    "\n",
    "\n",
    "data = loadmat(multi_path)"
   ]
  },
  {
   "cell_type": "code",
   "execution_count": 20,
   "metadata": {},
   "outputs": [
    {
     "data": {
      "text/plain": [
       "np.void((array([[512]], dtype=uint16), array(['1.7 cm'], dtype='<U6'), array(['60 cm'], dtype='<U5'), array(['LCD Monitor, Benq XL2420T'], dtype='<U25'), array(['Oz'], dtype='<U2'), array(['M'], dtype='<U1'), array(['32'], dtype='<U2'), array([[-7.01667796e-06, -7.31038426e-06, -8.57892064e-06, ...,\n",
       "         1.64608464e-05,  1.12859943e-05, -5.29669160e-06],\n",
       "       [-6.67584300e-06, -7.31422551e-06, -7.62318177e-06, ...,\n",
       "         1.63658460e-05,  1.00137386e-05, -4.87175521e-06],\n",
       "       [-6.14027977e-06, -6.84096267e-06, -6.86276917e-06, ...,\n",
       "         1.60672698e-05,  8.45984869e-06, -4.22229687e-06],\n",
       "       ...,\n",
       "       [ 2.28551994e-06,  3.31084584e-06, -5.42551106e-06, ...,\n",
       "         7.33828983e-06,  5.71450937e-06, -2.08970050e-06],\n",
       "       [ 2.72940997e-06,  3.40825204e-06, -4.40975055e-06, ...,\n",
       "         6.20197625e-06,  8.79591880e-06, -2.35789207e-06],\n",
       "       [ 3.09955794e-06,  3.61427783e-06, -3.06295033e-06, ...,\n",
       "         4.86804811e-06,  1.13561446e-05, -2.99241083e-06]]), array([[7.5, 8.2, 7. , 8.2, 6. , 7.5, 6. , 6. , 8.2, 8.2]]), array(['13-Dec-2012 19:05:40'], dtype='<U20'), array(['4.156'], dtype='<U5'), array(['3.419'], dtype='<U5'), array([[ 6. ],\n",
       "       [ 6.5],\n",
       "       [ 7. ],\n",
       "       [ 7.5],\n",
       "       [ 8.2],\n",
       "       [ 9.3],\n",
       "       [10. ]])), dtype=[('AmpSamlingFrequency', 'O'), ('TargetSize', 'O'), ('SubjectDistance', 'O'), ('StimulusDevice', 'O'), ('ElectrodePlacement', 'O'), ('SubjectGender', 'O'), ('SubjectAge', 'O'), ('EEG', 'O'), ('TargetFrequency', 'O'), ('RecordedDate', 'O'), ('OzImpedance', 'O'), ('FzImpedance', 'O'), ('FlickeringFrequencies', 'O')])"
      ]
     },
     "execution_count": 20,
     "metadata": {},
     "output_type": "execute_result"
    }
   ],
   "source": [
    "data['Data'][0][0]"
   ]
  },
  {
   "cell_type": "code",
   "execution_count": 31,
   "metadata": {},
   "outputs": [
    {
     "data": {
      "text/plain": [
       "(8192, 10)"
      ]
     },
     "execution_count": 31,
     "metadata": {},
     "output_type": "execute_result"
    }
   ],
   "source": [
    "data['Data'][0][0][7].shape"
   ]
  },
  {
   "cell_type": "code",
   "execution_count": 47,
   "metadata": {},
   "outputs": [],
   "source": [
    "import numpy as np\n",
    "\n",
    "multi_path = os.path.join(current_dir, 'multi/')\n",
    "\n",
    "RawSubsDict = dict()\n",
    "for i in range(1, 6):\n",
    "    pascienteTestsDict = dict()\n",
    "    for j in range(1, 3):\n",
    "        path_pasc = (f'{multi_path}Sub{i}_{j}_multitarget.mat')\n",
    "        arr_pas = loadmat(path_pasc)\n",
    "        pascienteTestsDict[f'{j}'] = arr_pas\n",
    "\n",
    "    vector1 = pascienteTestsDict['1']['Data'][0][0][7]\n",
    "    vector2 = pascienteTestsDict['2']['Data'][0][0][7]\n",
    "    result = np.hstack((vector1, vector2))\n",
    "    \n",
    "    RawSubsDict[f'{i}'] = result    \n"
   ]
  },
  {
   "cell_type": "code",
   "execution_count": 49,
   "metadata": {},
   "outputs": [
    {
     "name": "stdout",
     "output_type": "stream",
     "text": [
      "(8192, 20)\n"
     ]
    }
   ],
   "source": [
    "print(RawSubsDict['1'].shape)"
   ]
  }
 ],
 "metadata": {
  "kernelspec": {
   "display_name": "Python 3",
   "language": "python",
   "name": "python3"
  },
  "language_info": {
   "codemirror_mode": {
    "name": "ipython",
    "version": 3
   },
   "file_extension": ".py",
   "mimetype": "text/x-python",
   "name": "python",
   "nbconvert_exporter": "python",
   "pygments_lexer": "ipython3",
   "version": "3.10.12"
  }
 },
 "nbformat": 4,
 "nbformat_minor": 2
}
